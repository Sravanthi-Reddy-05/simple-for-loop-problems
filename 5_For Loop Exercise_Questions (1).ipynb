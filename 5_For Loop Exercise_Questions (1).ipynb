{
 "cells": [
  {
   "cell_type": "code",
   "execution_count": 1,
   "metadata": {},
   "outputs": [
    {
     "name": "stdout",
     "output_type": "stream",
     "text": [
      "34 35 36 37 38 39 40 41 42 43 44 45 "
     ]
    }
   ],
   "source": [
    "# Write a program using for loop to print from 34 to 45 (45 included)\n",
    "\n",
    "# your Answer\n",
    "\n",
    "\n",
    "for i in range(34,46):\n",
    "    print(i,end=\" \")\n",
    "\n",
    "\n",
    "\n",
    "\n",
    "\n",
    "\n",
    "\n",
    "\n",
    "\n"
   ]
  },
  {
   "cell_type": "code",
   "execution_count": 15,
   "metadata": {},
   "outputs": [
    {
     "name": "stdout",
     "output_type": "stream",
     "text": [
      "machinlearning\n",
      "machinlearning\n",
      "machinlearning\n",
      "machinlearning\n",
      "machinlearning\n",
      "machinlearning\n",
      "machinlearning\n",
      "machinlearning\n",
      "machinlearning\n",
      "machinlearning\n",
      "machinlearning\n",
      "machinlearning\n",
      "machinlearning\n",
      "machinlearning\n",
      "machinlearning\n",
      "machinlearning\n",
      "machinlearning\n",
      "machinlearning\n",
      "machinlearning\n",
      "machinlearning\n",
      "machinlearning\n",
      "machinlearning\n",
      "machinlearning\n",
      "machinlearning\n",
      "machinlearning\n",
      "machinlearning\n",
      "machinlearning\n",
      "machinlearning\n",
      "machinlearning\n",
      "machinlearning\n",
      "machinlearning\n",
      "machinlearning\n",
      "machinlearning\n",
      "machinlearning\n",
      "machinlearning\n",
      "machinlearning\n",
      "machinlearning\n",
      "machinlearning\n",
      "machinlearning\n",
      "machinlearning\n",
      "machinlearning\n",
      "machinlearning\n",
      "machinlearning\n",
      "machinlearning\n",
      "machinlearning\n",
      "machinlearning\n",
      "machinlearning\n",
      "machinlearning\n",
      "machinlearning\n",
      "machinlearning\n"
     ]
    }
   ],
   "source": [
    "# Write a program using for loop to print \"machinelearning\" 50 times \n",
    "\n",
    "# your Answer\n",
    "\n",
    "\n",
    "for i in range(0,50):\n",
    "    print(\"machinlearning\")\n",
    "\n",
    "\n",
    "\n"
   ]
  },
  {
   "cell_type": "code",
   "execution_count": 3,
   "metadata": {},
   "outputs": [
    {
     "name": "stdout",
     "output_type": "stream",
     "text": [
      "21 23 25 27 "
     ]
    }
   ],
   "source": [
    "# Write a program using for loop to print 21 ,23,25,27\n",
    "\n",
    "# your Answer\n",
    "\n",
    "\n",
    "\n",
    "for i in range(21,28,2):\n",
    "    print(i,end=\" \")\n",
    "\n",
    "\n"
   ]
  },
  {
   "cell_type": "code",
   "execution_count": 4,
   "metadata": {},
   "outputs": [
    {
     "name": "stdout",
     "output_type": "stream",
     "text": [
      "14 15 16 18 19 20 21 22 23 24 25 26 27 28 29 30 31 32 33 34 35 36 37 "
     ]
    }
   ],
   "source": [
    "#Write a Python program that prints all the numbers from 14 to 37(37 inclusive) except 17 .\n",
    "#Note : Use 'continue' statement.\n",
    "#Expected Output : 14 15 16 18 19 20 21 22 23 24 25 26 27 28 29 30 31 32 33 34 35 36 37\n",
    "\n",
    "# your Answer\n",
    "\n",
    "\n",
    "for i in range(14,38):\n",
    "    if i==17:\n",
    "        continue\n",
    "    else:\n",
    "        print(i,end=\" \")\n",
    "\n",
    "\n",
    "\n"
   ]
  },
  {
   "cell_type": "code",
   "execution_count": 5,
   "metadata": {},
   "outputs": [
    {
     "name": "stdout",
     "output_type": "stream",
     "text": [
      "86 88 90 92 94 96 98 100 "
     ]
    }
   ],
   "source": [
    "# Write a program to print only even numbers from 85 to 100 using for loop\n",
    "\n",
    "# your Answer\n",
    "\n",
    "\n",
    "\n",
    "for i in range(85,101):\n",
    "    if i%2==0:\n",
    "        print(i,end=\" \")\n",
    "\n",
    "\n"
   ]
  },
  {
   "cell_type": "code",
   "execution_count": 8,
   "metadata": {},
   "outputs": [
    {
     "name": "stdout",
     "output_type": "stream",
     "text": [
      "35\n"
     ]
    }
   ],
   "source": [
    "# Write a Python program to find those numbers which are divisible by 7 and multiple of 5, between 14 and 37\n",
    "\n",
    "# your Answer\n",
    "\n",
    "\n",
    "\n",
    "for i in range(14,38):\n",
    "    if i%7==0 and i%5==0:\n",
    "        print(i)\n",
    "\n",
    "\n"
   ]
  },
  {
   "cell_type": "code",
   "execution_count": 10,
   "metadata": {},
   "outputs": [
    {
     "name": "stdout",
     "output_type": "stream",
     "text": [
      "hello\n",
      "hello\n",
      "hi\n",
      "hello\n",
      "hello\n",
      "hi\n",
      "hello\n",
      "hello\n",
      "hello\n",
      "hi\n",
      "hello\n"
     ]
    }
   ],
   "source": [
    "#Write a Python program which iterates the integers from 14 to 37. \n",
    "#For multiples of three print \"hello\" instead of the number and for the multiples of five print \"hi\". \n",
    "#For numbers which are multiples of both three and five print \"goodmorning\"\n",
    "\n",
    "# your Answer\n",
    "\n",
    "for i in range(14,38):\n",
    "    if i%3==0:\n",
    "        print(\"hello\")\n",
    "    elif i%5==0:\n",
    "        print(\"hi\")\n",
    "    elif i%3==0 and i%5==0:\n",
    "        print(\"goodmorning\")\n",
    "\n",
    "\n",
    "\n"
   ]
  },
  {
   "cell_type": "code",
   "execution_count": 12,
   "metadata": {},
   "outputs": [
    {
     "name": "stdout",
     "output_type": "stream",
     "text": [
      "2*1 = 2\n",
      "2*2 = 4\n",
      "2*3 = 6\n",
      "2*4 = 8\n",
      "2*5 = 10\n",
      "2*6 = 12\n",
      "2*7 = 14\n",
      "2*8 = 16\n",
      "2*9 = 18\n",
      "2*10 = 20\n"
     ]
    }
   ],
   "source": [
    "\n",
    "\"\"\"\n",
    "2*1 = 2\n",
    "2*2 = 4\n",
    ".\n",
    ".\n",
    ".\n",
    "2*10 = 20\n",
    "\"\"\"\n",
    "#Write program to print 2 table like above \n",
    "\n",
    "# your Answer\n",
    "\n",
    "\n",
    "for i in range(1,11):\n",
    "    print(\"2*\"+str(i),\"=\",2*i)\n",
    "\n",
    "\n",
    "\n"
   ]
  },
  {
   "cell_type": "code",
   "execution_count": null,
   "metadata": {},
   "outputs": [],
   "source": []
  }
 ],
 "metadata": {
  "kernelspec": {
   "display_name": "Python 3 (ipykernel)",
   "language": "python",
   "name": "python3"
  },
  "language_info": {
   "codemirror_mode": {
    "name": "ipython",
    "version": 3
   },
   "file_extension": ".py",
   "mimetype": "text/x-python",
   "name": "python",
   "nbconvert_exporter": "python",
   "pygments_lexer": "ipython3",
   "version": "3.11.7"
  }
 },
 "nbformat": 4,
 "nbformat_minor": 4
}
